{
  "nbformat": 4,
  "nbformat_minor": 0,
  "metadata": {
    "colab": {
      "provenance": [],
      "authorship_tag": "ABX9TyOM7hwxU6fvNHpQvYtIjdo8",
      "include_colab_link": true
    },
    "kernelspec": {
      "name": "python3",
      "display_name": "Python 3"
    },
    "language_info": {
      "name": "python"
    }
  },
  "cells": [
    {
      "cell_type": "markdown",
      "metadata": {
        "id": "view-in-github",
        "colab_type": "text"
      },
      "source": [
        "<a href=\"https://colab.research.google.com/github/dikshetha/partsofspeech/blob/main/partsofspeech_py.ipynb\" target=\"_parent\"><img src=\"https://colab.research.google.com/assets/colab-badge.svg\" alt=\"Open In Colab\"/></a>"
      ]
    },
    {
      "cell_type": "code",
      "execution_count": 3,
      "metadata": {
        "colab": {
          "base_uri": "https://localhost:8080/"
        },
        "id": "nTJG9dpcQjR6",
        "outputId": "7e126fa3-9f35-472d-8944-8a9d27c556a3"
      },
      "outputs": [
        {
          "output_type": "stream",
          "name": "stdout",
          "text": [
            "\n",
            "Nouns: ['Please', 'note', 'paragraph', 'placeholder', 'publishing', 'design', 'industry', 'meaning', 'content', 'text', 'design', 'purposes']\n",
            "Pronouns: ['It', 'It']\n",
            "Adjectives: ['graphic', 'coherent', 'specific', 'dummy']\n",
            "Conjunctions: ['and', 'or']\n",
            "Adverbs: ['commonly', 'not', 'often']\n",
            "Verbs: ['is', 'used', 'does', 'have', 'is', 'used']\n",
            "Prepositions: ['that', 'in', 'as', 'for']\n",
            "Interjections: []\n"
          ]
        },
        {
          "output_type": "stream",
          "name": "stderr",
          "text": [
            "[nltk_data] Downloading package punkt to /root/nltk_data...\n",
            "[nltk_data]   Package punkt is already up-to-date!\n",
            "[nltk_data] Downloading package averaged_perceptron_tagger to\n",
            "[nltk_data]     /root/nltk_data...\n",
            "[nltk_data]   Package averaged_perceptron_tagger is already up-to-\n",
            "[nltk_data]       date!\n"
          ]
        }
      ],
      "source": [
        "import nltk\n",
        "nltk.download('punkt')\n",
        "nltk.download('averaged_perceptron_tagger')\n",
        "from nltk.tokenize import word_tokenize, sent_tokenize\n",
        "from nltk import pos_tag\n",
        "def identify_parts_of_speech(paragraph):\n",
        "    # Tokenize the paragraph into sentences\n",
        "    sentences = sent_tokenize(paragraph)\n",
        "    # Tokenize each sentence into words and perform part-of-speech tagging\n",
        "    pos_tags = []\n",
        "    for sentence in sentences:\n",
        "        words = word_tokenize(sentence)\n",
        "        pos_tags.extend(pos_tag(words))\n",
        "    # Initialize lists to store different parts of speech\n",
        "    nouns = []\n",
        "    pronouns = []\n",
        "    adjectives = []\n",
        "    conjunctions = []\n",
        "    adverbs = []\n",
        "    verbs = []\n",
        "    prepositions = []\n",
        "    interjections = []\n",
        "    for word, pos in pos_tags:\n",
        "        if pos.startswith('N'):\n",
        "            nouns.append(word)\n",
        "        elif pos.startswith('PR'):\n",
        "            pronouns.append(word)\n",
        "        elif pos.startswith('JJ'):\n",
        "            adjectives.append(word)\n",
        "        elif pos.startswith('CC'):\n",
        "            conjunctions.append(word)\n",
        "        elif pos.startswith('RB'):\n",
        "            adverbs.append(word)\n",
        "        elif pos.startswith('V'):\n",
        "            verbs.append(word)\n",
        "        elif pos.startswith('IN'):\n",
        "            prepositions.append(word)\n",
        "        elif pos.startswith('UH'):\n",
        "            interjections.append(word)\n",
        "    return nouns, pronouns, adjectives, conjunctions, adverbs, verbs, articles, prepositions, interjections\n",
        "if __name__ == \"__main__\":\n",
        "    paragraph = \"\"\"Please note that this paragraph is a placeholder commonly used in the publishing and graphic design industry. It does not have any coherent meaning or specific content. It is often used as dummy text for design purposes.\"\"\"\n",
        "    nouns, pronouns, adjectives, conjunctions, adverbs, verbs, articles, prepositions, interjections = identify_parts_of_speech(paragraph)\n",
        "    print(\"\\nNouns:\", nouns)\n",
        "    print(\"Pronouns:\", pronouns)\n",
        "    print(\"Adjectives:\", adjectives)\n",
        "    print(\"Conjunctions:\", conjunctions)\n",
        "    print(\"Adverbs:\", adverbs)\n",
        "    print(\"Verbs:\", verbs)\n",
        "    print(\"Prepositions:\", prepositions)\n",
        "    print(\"Interjections:\", interjections)"
      ]
    }
  ]
}