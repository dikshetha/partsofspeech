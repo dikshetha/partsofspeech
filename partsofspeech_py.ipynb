{
  "nbformat": 4,
  "nbformat_minor": 0,
  "metadata": {
    "colab": {
      "provenance": [],
      "authorship_tag": "ABX9TyPboe0NuX5DW52Ragzl6u3N",
      "include_colab_link": true
    },
    "kernelspec": {
      "name": "python3",
      "display_name": "Python 3"
    },
    "language_info": {
      "name": "python"
    }
  },
  "cells": [
    {
      "cell_type": "markdown",
      "metadata": {
        "id": "view-in-github",
        "colab_type": "text"
      },
      "source": [
        "<a href=\"https://colab.research.google.com/github/dikshetha/partsofspeech/blob/main/partsofspeech_py.ipynb\" target=\"_parent\"><img src=\"https://colab.research.google.com/assets/colab-badge.svg\" alt=\"Open In Colab\"/></a>"
      ]
    },
    {
      "cell_type": "code",
      "execution_count": 5,
      "metadata": {
        "colab": {
          "base_uri": "https://localhost:8080/"
        },
        "id": "nTJG9dpcQjR6",
        "outputId": "b8f097c9-d444-4673-9eb3-405542933ea3"
      },
      "outputs": [
        {
          "output_type": "stream",
          "name": "stdout",
          "text": [
            "\n",
            "Nouns: ['Prince', 'story', 'compassion', 'society', 'tale', 'prince', 'beauty', 'comfort', 'life', 's', 'statue', 'city', 'others', 'lives', 'poverty', 'darkness', 'help', 'swallow', 'type', 'bird', 'prince', 'people', 'death', 'story', 'English', 'English', '..']\n",
            "Pronouns: ['It', 'his', 'he', 'he', 'his', 'he', 'their']\n",
            "Adjectives: ['Happy', 'fairy', 'fable', 's', 'golden', 'old', 'modern']\n",
            "Conjunctions: ['and', 'and', 'and']\n",
            "Adverbs: ['once', 'only', 'actually', 'even', 'much', 'not']\n",
            "Verbs: ['is', 'explores', 'serving', '’', 'is', 'allowed', 'see', 'dies', '’', 'turned', 'discovers', 'live', 'manages', 'help', 'is', 'is', 'outdated', 'used']\n",
            "Prepositions: ['in', 'as', 'at', 'about', 'in', 'into', 'in', 'that', 'in', 'With', 'of', 'of', 'after', 'Since', 'of', 'in']\n",
            "Interjections: []\n"
          ]
        },
        {
          "output_type": "stream",
          "name": "stderr",
          "text": [
            "[nltk_data] Downloading package punkt to /root/nltk_data...\n",
            "[nltk_data]   Package punkt is already up-to-date!\n",
            "[nltk_data] Downloading package averaged_perceptron_tagger to\n",
            "[nltk_data]     /root/nltk_data...\n",
            "[nltk_data]   Package averaged_perceptron_tagger is already up-to-\n",
            "[nltk_data]       date!\n"
          ]
        }
      ],
      "source": [
        "import nltk\n",
        "nltk.download('punkt')\n",
        "nltk.download('averaged_perceptron_tagger')\n",
        "from nltk.tokenize import word_tokenize, sent_tokenize\n",
        "from nltk import pos_tag\n",
        "def identify_parts_of_speech(paragraph):\n",
        "    # Tokenize the paragraph into sentences\n",
        "    sentences = sent_tokenize(paragraph)\n",
        "    # Tokenize each sentence into words and perform part-of-speech tagging\n",
        "    pos_tags = []\n",
        "    for sentence in sentences:\n",
        "        words = word_tokenize(sentence)\n",
        "        pos_tags.extend(pos_tag(words))\n",
        "    # Initialize lists to store different parts of speech\n",
        "    nouns = []\n",
        "    pronouns = []\n",
        "    adjectives = []\n",
        "    conjunctions = []\n",
        "    adverbs = []\n",
        "    verbs = []\n",
        "    prepositions = []\n",
        "    interjections = []\n",
        "    for word, pos in pos_tags:\n",
        "        if pos.startswith('N'):\n",
        "            nouns.append(word)\n",
        "        elif pos.startswith('PR'):\n",
        "            pronouns.append(word)\n",
        "        elif pos.startswith('JJ'):\n",
        "            adjectives.append(word)\n",
        "        elif pos.startswith('CC'):\n",
        "            conjunctions.append(word)\n",
        "        elif pos.startswith('RB'):\n",
        "            adverbs.append(word)\n",
        "        elif pos.startswith('V'):\n",
        "            verbs.append(word)\n",
        "        elif pos.startswith('IN'):\n",
        "            prepositions.append(word)\n",
        "        elif pos.startswith('UH'):\n",
        "            interjections.append(word)\n",
        "    return nouns, pronouns, adjectives, conjunctions, adverbs, verbs,prepositions, interjections\n",
        "if __name__ == \"__main__\":\n",
        "    paragraph = \"\"\"The Happy Prince is a story that explores compassion in society, serving as a fairy tale and a fable at once. It’s about a prince who is only allowed to see beauty and comfort in his life. When he dies, he’s turned into a golden statue in his city, where he discovers that others actually live their lives in poverty and darkness. With the help of a swallow (a type of bird), the prince manages to help people even after death.\n",
        "    Since the story is old, much of the English is outdated (not used in modern English)..\"\"\"\n",
        "    nouns, pronouns, adjectives, conjunctions, adverbs, verbs,prepositions, interjections = identify_parts_of_speech(paragraph)\n",
        "    print(\"\\nNouns:\", nouns)\n",
        "    print(\"Pronouns:\", pronouns)\n",
        "    print(\"Adjectives:\", adjectives)\n",
        "    print(\"Conjunctions:\", conjunctions)\n",
        "    print(\"Adverbs:\", adverbs)\n",
        "    print(\"Verbs:\", verbs)\n",
        "    print(\"Prepositions:\", prepositions)\n",
        "    print(\"Interjections:\", interjections)"
      ]
    }
  ]
}